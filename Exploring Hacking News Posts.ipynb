{
 "cells": [
  {
   "cell_type": "markdown",
   "metadata": {},
   "source": [
    "# Exploring 'Hacking News Posts'\n",
    "The purpose for this project is to compare \n",
    "1. average of comments\n",
    "2. average of comments by hour\n",
    "\n",
    "between two different types of posts, Ask HN and Show HN.\n",
    "- Ask HN : ask the Hacker News community a specific question\n",
    "- Show HN : show the Hacker News community a project, product, or  something interesting\n",
    "\n",
    "The data set  was reduced  to approximately 20,000 rows by removing all submissions that did not receive any comments, and then randomly sampling from the remaining submissions."
   ]
  },
  {
   "cell_type": "code",
   "execution_count": 24,
   "metadata": {},
   "outputs": [
    {
     "name": "stdout",
     "output_type": "stream",
     "text": [
      "['id', 'title', 'url', 'num_points', 'num_comments', 'author', 'created_at']\n",
      "['12224879', 'Interactive Dynamic Video', 'http://www.interactivedynamicvideo.com/', '386', '52', 'ne0phyte', '8/4/2016 11:52']\n",
      "['10975351', 'How to Use Open Source and Shut the Fuck Up at the Same Time', 'http://hueniverse.com/2016/01/26/how-to-use-open-source-and-shut-the-fuck-up-at-the-same-time/', '39', '10', 'josep2', '1/26/2016 19:30']\n",
      "['11964716', \"Florida DJs May Face Felony for April Fools' Water Joke\", 'http://www.thewire.com/entertainment/2013/04/florida-djs-april-fools-water-joke/63798/', '2', '1', 'vezycash', '6/23/2016 22:20']\n"
     ]
    }
   ],
   "source": [
    "#open data and store in list\n",
    "from csv import reader\n",
    "opened_file = open('hacker_news.csv')\n",
    "hn = reader(opened_file)\n",
    "hn = list(hn)\n",
    "opened_file.close()\n",
    "header = hn[0] #separate data header\n",
    "hn = hn[1:]\n",
    "print(header)\n",
    "for row in hn[:3]:\n",
    "    print(row)"
   ]
  },
  {
   "cell_type": "markdown",
   "metadata": {},
   "source": [
    "## Classify each type of posts"
   ]
  },
  {
   "cell_type": "code",
   "execution_count": 25,
   "metadata": {
    "scrolled": true
   },
   "outputs": [
    {
     "name": "stdout",
     "output_type": "stream",
     "text": [
      "Number of ask posts :  1744\n",
      "Number of show posts :  1162\n",
      "Number of other posts :  17194\n"
     ]
    }
   ],
   "source": [
    "ask_posts = []\n",
    "show_posts = []\n",
    "other_posts = []\n",
    "for post in hn:\n",
    "    title = post[1].lower() #set all characters to lowercase\n",
    "    if title.startswith('ask hn'):\n",
    "        ask_posts.append(post) #add post which starts with 'ask hn' to list\n",
    "    elif title.startswith('show hn'):\n",
    "        show_posts.append(post) #add post which starts with 'show hn' to list\n",
    "    else:\n",
    "        other_posts.append(post)\n",
    "print('Number of ask posts : ',len(ask_posts))\n",
    "print('Number of show posts : ',len(show_posts))\n",
    "print('Number of other posts : ',len(other_posts))"
   ]
  },
  {
   "cell_type": "markdown",
   "metadata": {},
   "source": [
    "## Calculate average of comments from total posts\n"
   ]
  },
  {
   "cell_type": "code",
   "execution_count": 32,
   "metadata": {},
   "outputs": [
    {
     "name": "stdout",
     "output_type": "stream",
     "text": [
      "Average of comments from ask posts :  14.038417431192661\n",
      "Average of comments from show posts :  10.31669535283993\n"
     ]
    }
   ],
   "source": [
    "#ask post\n",
    "total_ask_comment = 0\n",
    "for post in ask_posts:\n",
    "    num_comment = int(post[4])\n",
    "    total_ask_comment += num_comment\n",
    "avg_ask_comments = total_ask_comment/len(ask_posts)\n",
    "print('Average of comments from ask posts : ',avg_ask_comments)\n",
    "\n",
    "#show post\n",
    "total_show_comment = 0\n",
    "for post in show_posts:\n",
    "    num_comment = int(post[4])\n",
    "    total_show_comment += num_comment\n",
    "avg_show_comments = total_show_comment/len(show_posts)\n",
    "print('Average of comments from show posts : ',avg_show_comments)"
   ]
  },
  {
   "cell_type": "markdown",
   "metadata": {},
   "source": [
    "from the calculation above, we can notice that ask posts receive comments more than show posts. So from now, we will only analyze on asks posts to find the time which is receive the most comments."
   ]
  },
  {
   "cell_type": "markdown",
   "metadata": {},
   "source": [
    "# Ask Posts"
   ]
  },
  {
   "cell_type": "markdown",
   "metadata": {},
   "source": [
    "## Collect number of create posts and comments post depending on time\n",
    "\n",
    "This part is to create two dictionaries to collect number by time."
   ]
  },
  {
   "cell_type": "code",
   "execution_count": 27,
   "metadata": {
    "scrolled": true
   },
   "outputs": [
    {
     "name": "stdout",
     "output_type": "stream",
     "text": [
      "Dictionary of the number of creating posts by hour created\n",
      "{'09': 45, '13': 85, '10': 59, '14': 107, '16': 108, '23': 68, '12': 73, '17': 100, '15': 116, '21': 109, '20': 80, '02': 58, '18': 109, '03': 54, '05': 46, '19': 110, '01': 60, '22': 71, '08': 48, '04': 47, '00': 55, '06': 44, '07': 34, '11': 58}\n",
      "Dictionary of the number of commets by hour created\n",
      "{'09': 251, '13': 1253, '10': 793, '14': 1416, '16': 1814, '23': 543, '12': 687, '17': 1146, '15': 4477, '21': 1745, '20': 1722, '02': 1381, '18': 1439, '03': 421, '05': 464, '19': 1188, '01': 683, '22': 479, '08': 492, '04': 337, '00': 447, '06': 397, '07': 267, '11': 641}\n"
     ]
    }
   ],
   "source": [
    "import datetime as dt\n",
    "result_list = []\n",
    "for post in ask_posts:\n",
    "    created_at = post[6]\n",
    "    comment = int(post[4])\n",
    "    result_list.append([created_at,comment]) \n",
    "    #create list containing datetime and comment and add to list\n",
    "counts_by_hour = {}\n",
    "comments_by_hour = {}\n",
    "for result in result_list:\n",
    "    #use datetime.strptime to convert string data to datetime data\n",
    "    #including month, day, year, hour\n",
    "    dt_result = dt.datetime.strptime(result[0],\"%m/%d/%Y %H:%M\")\n",
    "    #use strftime to export data from datetime and select only hour\n",
    "    hours = dt_result.strftime(\"%H\")\n",
    "    #count and collect in dictionary\n",
    "    if hours not in counts_by_hour:\n",
    "        counts_by_hour[hours] = 1\n",
    "        comments_by_hour[hours] = result[1]\n",
    "    else:\n",
    "        counts_by_hour[hours] += 1\n",
    "        comments_by_hour[hours] += result[1]\n",
    "print('Dictionary of the number of creating posts by hour created')\n",
    "print(counts_by_hour)\n",
    "print('Dictionary of the number of commets by hour created')\n",
    "print(comments_by_hour)"
   ]
  },
  {
   "cell_type": "markdown",
   "metadata": {},
   "source": [
    "## Calculate average of comments from total post depending on hour created\n",
    "\n",
    "This part is to use two dictionaries created before and then calculate average."
   ]
  },
  {
   "cell_type": "code",
   "execution_count": 28,
   "metadata": {
    "scrolled": true
   },
   "outputs": [
    {
     "name": "stdout",
     "output_type": "stream",
     "text": [
      "List of the average of comments from total posts by hour created\n",
      "[['09', 5.5777777777777775], ['13', 14.741176470588234], ['10', 13.440677966101696], ['14', 13.233644859813085], ['16', 16.796296296296298], ['23', 7.985294117647059], ['12', 9.41095890410959], ['17', 11.46], ['15', 38.5948275862069], ['21', 16.009174311926607], ['20', 21.525], ['02', 23.810344827586206], ['18', 13.20183486238532], ['03', 7.796296296296297], ['05', 10.08695652173913], ['19', 10.8], ['01', 11.383333333333333], ['22', 6.746478873239437], ['08', 10.25], ['04', 7.170212765957447], ['00', 8.127272727272727], ['06', 9.022727272727273], ['07', 7.852941176470588], ['11', 11.051724137931034]]\n"
     ]
    }
   ],
   "source": [
    "avg_by_hour = []\n",
    "for count in counts_by_hour:\n",
    "    post_num = counts_by_hour[count]\n",
    "    comment_num = comments_by_hour[count]\n",
    "    avg = comment_num/post_num\n",
    "    avg_by_hour.append([count,avg])\n",
    "print('List of the average of comments from total posts by hour created')\n",
    "print(avg_by_hour)"
   ]
  },
  {
   "cell_type": "markdown",
   "metadata": {},
   "source": [
    "## Sort the average of comments from total post depending on hour created"
   ]
  },
  {
   "cell_type": "code",
   "execution_count": 29,
   "metadata": {},
   "outputs": [
    {
     "name": "stdout",
     "output_type": "stream",
     "text": [
      "Top 5 of the average of comments :\n",
      "[38.5948275862069, '15']\n",
      "[23.810344827586206, '02']\n",
      "[21.525, '20']\n",
      "[16.796296296296298, '16']\n",
      "[16.009174311926607, '21']\n"
     ]
    }
   ],
   "source": [
    "swap_avg_by_hour = []\n",
    "for row in avg_by_hour:\n",
    "    swap_avg_by_hour.append([row[1],row[0]])\n",
    "sorted_swap = sorted(swap_avg_by_hour,reverse=True)\n",
    "print('Top 5 of the average of comments :')\n",
    "for row in sorted_swap[:5]:\n",
    "    print(row)"
   ]
  },
  {
   "cell_type": "markdown",
   "metadata": {},
   "source": [
    "or you can represent in another way which is easier for reading"
   ]
  },
  {
   "cell_type": "code",
   "execution_count": 31,
   "metadata": {},
   "outputs": [
    {
     "name": "stdout",
     "output_type": "stream",
     "text": [
      "Top 5 of the average of comments :\n",
      "15:00: 38.59 average comments per post.\n",
      "02:00: 23.81 average comments per post.\n",
      "20:00: 21.52 average comments per post.\n",
      "16:00: 16.80 average comments per post.\n",
      "21:00: 16.01 average comments per post.\n"
     ]
    }
   ],
   "source": [
    "print('Top 5 of the average of comments :')\n",
    "for row in sorted_swap[:5]:\n",
    "    template = '{}: {:.2f} average comments per post.'\n",
    "    time = dt.datetime.strptime(row[1],'%H')\n",
    "    time = time.strftime('%H:%M')\n",
    "    avg = row[0]\n",
    "    print(template.format(time,avg))"
   ]
  },
  {
   "cell_type": "markdown",
   "metadata": {},
   "source": [
    "# Conclusion\n",
    "\n",
    "Based on our analysis, to maximize the amount of comments a post receives, we'd recommend the post be categorized as ask post and created between 15:00 and 16:00."
   ]
  }
 ],
 "metadata": {
  "kernelspec": {
   "display_name": "Python 3",
   "language": "python",
   "name": "python3"
  },
  "language_info": {
   "codemirror_mode": {
    "name": "ipython",
    "version": 3
   },
   "file_extension": ".py",
   "mimetype": "text/x-python",
   "name": "python",
   "nbconvert_exporter": "python",
   "pygments_lexer": "ipython3",
   "version": "3.8.2"
  }
 },
 "nbformat": 4,
 "nbformat_minor": 2
}
